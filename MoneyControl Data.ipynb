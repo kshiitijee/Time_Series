{
 "cells": [
  {
   "cell_type": "code",
   "execution_count": 1,
   "metadata": {
    "collapsed": true
   },
   "outputs": [],
   "source": [
    "import requests\n",
    "from bs4 import BeautifulSoup\n",
    "from lxml import html"
   ]
  },
  {
   "cell_type": "code",
   "execution_count": 33,
   "metadata": {
    "collapsed": true
   },
   "outputs": [],
   "source": [
    "companyname = 'ICICIBANK'\n",
    "code = 'ICI02'\n",
    "\n",
    "pageContent = requests.get('http://www.moneycontrol.com/financials/' + companyname + 'hdfcbank''/consolidated-ratiosVI/' + code)"
   ]
  },
  {
   "cell_type": "code",
   "execution_count": 34,
   "metadata": {
    "collapsed": false
   },
   "outputs": [],
   "source": [
    "tree = html.fromstring(pageContent.content)"
   ]
  },
  {
   "cell_type": "code",
   "execution_count": 49,
   "metadata": {
    "collapsed": false
   },
   "outputs": [
    {
     "name": "stdout",
     "output_type": "stream",
     "text": [
      "BSE: 283.05\n",
      "NSE: 283.00\n"
     ]
    }
   ],
   "source": [
    "# Path for Price\n",
    "bse = tree.xpath('/html/body/center[2]/div/div[1]/div[8]/div[2]/div/div[2]/div[1]/div/div[2]/span/strong/text()')\n",
    "nse = tree.xpath('/html/body/center[2]/div/div[1]/div[8]/div[2]/div/div[2]/div[2]/div/div[2]/span/strong/text()')\n",
    "    \n",
    "print('BSE: {}\\nNSE: {}'.format(bse[0], nse[0]))"
   ]
  },
  {
   "cell_type": "code",
   "execution_count": null,
   "metadata": {
    "collapsed": true
   },
   "outputs": [],
   "source": []
  }
 ],
 "metadata": {
  "kernelspec": {
   "display_name": "Python 3",
   "language": "python",
   "name": "python3"
  },
  "language_info": {
   "codemirror_mode": {
    "name": "ipython",
    "version": 3
   },
   "file_extension": ".py",
   "mimetype": "text/x-python",
   "name": "python",
   "nbconvert_exporter": "python",
   "pygments_lexer": "ipython3",
   "version": "3.5.1"
  }
 },
 "nbformat": 4,
 "nbformat_minor": 2
}
